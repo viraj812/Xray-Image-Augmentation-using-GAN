{
  "cells": [
    {
      "cell_type": "code",
      "execution_count": null,
      "metadata": {
        "id": "X8Y7r3DkvFCx"
      },
      "outputs": [],
      "source": [
        "from google.colab import drive\n",
        "drive.mount('/content/drive')"
      ]
    },
    {
      "cell_type": "code",
      "execution_count": null,
      "metadata": {
        "colab": {
          "background_save": true
        },
        "id": "Y3p9v0Cl6_Qf"
      },
      "outputs": [],
      "source": [
        "import tensorflow as tf\n",
        "from tensorflow import keras\n",
        "# from keras.layers import Dropout, Conv2D, Conv2DTranspose, MaxPooling2D, Dense, Flatten, LeakyReLU, Reshape, BatchNormalization\n",
        "# from keras.models import Sequential\n",
        "from keras.optimizers import Adam\n",
        "import keras\n",
        "import numpy as np\n",
        "from PIL import Image\n",
        "import glob\n",
        "import matplotlib.pyplot as plt\n",
        "import seaborn as sns\n",
        "import cv2\n",
        "import os"
      ]
    },
    {
      "cell_type": "code",
      "execution_count": null,
      "metadata": {
        "id": "zpOb1XMPmAMX"
      },
      "outputs": [],
      "source": [
        "files = glob.glob('/content/*.jpeg')"
      ]
    },
    {
      "cell_type": "code",
      "execution_count": null,
      "metadata": {
        "id": "B8yhXpo2mD5L"
      },
      "outputs": [],
      "source": [
        "def load_images_from_folder(folder, img_size=(256, 256)):\n",
        "    images = []\n",
        "    for filename in os.listdir(folder):\n",
        "        img_path = os.path.join(folder, filename)\n",
        "        img = cv2.imread(img_path, cv2.IMREAD_GRAYSCALE)\n",
        "        if img is not None:\n",
        "            img = cv2.resize(img, img_size)\n",
        "            images.append(img)\n",
        "    return np.array(images)\n",
        "\n",
        "images = load_images_from_folder('/content/')\n"
      ]
    },
    {
      "cell_type": "code",
      "execution_count": null,
      "metadata": {
        "cellView": "form",
        "id": "KzFnWBXAmG20"
      },
      "outputs": [],
      "source": [
        "# @title\n",
        "# def display_images(images, title=\"Sample Images\", n=5):\n",
        "#     plt.figure(figsize=(10, 5))\n",
        "#     for i in range(n * n):\n",
        "#         plt.subplot(n, n, i + 1)\n",
        "#         plt.imshow(images[i], cmap='gray')\n",
        "#         plt.axis('off')\n",
        "#     plt.suptitle(title, fontsize=20)\n",
        "#     plt.show()\n",
        "\n",
        "# def plot_pixel_intensity(images, title=\"Pixel Intensity Distribution\"):\n",
        "#     pixel_values = images.ravel()\n",
        "#     plt.figure(figsize=(2, 5))\n",
        "#     sns.histplot(pixel_values, bins=50, kde=True)\n",
        "#     plt.title(title)\n",
        "#     plt.xlabel(\"Pixel Intensity\")\n",
        "#     plt.ylabel(\"Frequency\")\n",
        "#     plt.show()\n",
        "\n",
        "# display_images(images, title=\"Sample X-ray Images\", n=4)\n",
        "\n",
        "# def plot_pixel_intensity(images, title=\"Pixel Intensity Distribution\"):\n",
        "#     pixel_values = images.ravel()\n",
        "#     plt.figure(figsize=(10, 5))\n",
        "#     sns.histplot(pixel_values, bins=50, kde=True)\n",
        "#     plt.title(title)\n",
        "#     plt.xlabel(\"Pixel Intensity\")\n",
        "#     plt.ylabel(\"Frequency\")\n",
        "#     plt.show()\n",
        "\n",
        "# # Plot pixel intensity histograms for X-ray and MRI images\n",
        "# plot_pixel_intensity(images, title=\"X-ray Pixel Intensity Distribution\")\n",
        "\n",
        "# def edge_detection(images, title=\"Edge Detection\"):\n",
        "#     edges = [cv2.Canny(img, 100, 200) for img in images[:10]]\n",
        "#     plt.figure(figsize=(10, 5))\n",
        "#     for i, edge_img in enumerate(edges):\n",
        "#         plt.subplot(2, 5, i + 1)\n",
        "#         plt.imshow(edge_img, cmap='gray')\n",
        "#         plt.axis('off')\n",
        "#     plt.suptitle(title, fontsize=20)\n",
        "#     plt.show()\n",
        "\n",
        "# # Display edge detection results for X-rays and MRIs\n",
        "# edge_detection(images, title=\"Edge Detection on Sample X-Ray Images\")"
      ]
    },
    {
      "cell_type": "code",
      "execution_count": null,
      "metadata": {
        "colab": {
          "base_uri": "https://localhost:8080/"
        },
        "id": "DxXHt2Y8UboX",
        "outputId": "3935332d-6739-4053-fff2-9b61743a8a52"
      },
      "outputs": [
        {
          "data": {
            "text/plain": [
              "1341"
            ]
          },
          "execution_count": 6,
          "metadata": {},
          "output_type": "execute_result"
        }
      ],
      "source": [
        "mri_data = images[:]\n",
        "\n",
        "len(mri_data)"
      ]
    },
    {
      "cell_type": "code",
      "execution_count": null,
      "metadata": {
        "id": "ZofpqQmJ6n5K"
      },
      "outputs": [],
      "source": [
        "mri_data = np.array(mri_data).reshape((1341, 256, 256, 1))\n",
        "mri_data = (mri_data - 127.5) / 127.5"
      ]
    },
    {
      "cell_type": "code",
      "execution_count": null,
      "metadata": {
        "id": "luIZi36a6n5M"
      },
      "outputs": [],
      "source": [
        "buffer_size = mri_data.shape[0]\n",
        "batch_size = 16\n"
      ]
    },
    {
      "cell_type": "code",
      "execution_count": null,
      "metadata": {
        "id": "O-BOlRJoq0Vy"
      },
      "outputs": [],
      "source": [
        "# Batch and shuffle the data\n",
        "train_x = tf.data.Dataset.from_tensor_slices(mri_data).shuffle(buffer_size).batch(batch_size)"
      ]
    },
    {
      "cell_type": "markdown",
      "metadata": {
        "id": "0e5ilhGPE-VG"
      },
      "source": [
        "# **GENERATING IMAGES**"
      ]
    },
    {
      "cell_type": "code",
      "execution_count": null,
      "metadata": {
        "id": "bdsVzRCwkA-H"
      },
      "outputs": [],
      "source": [
        "generator = keras.models.load_model('/content/drive/MyDrive/xray_generator.keras')\n",
        "discriminator = keras.models.load_model('/content/drive/MyDrive/xray_discriminator.keras')"
      ]
    },
    {
      "cell_type": "code",
      "execution_count": null,
      "metadata": {
        "id": "kWUCCbTA6Dcf"
      },
      "outputs": [],
      "source": [
        "lr = 3e-5"
      ]
    },
    {
      "cell_type": "code",
      "execution_count": null,
      "metadata": {
        "id": "XVKwZIi2iZr1"
      },
      "outputs": [],
      "source": [
        "# This method returns a helper function to compute cross entropy loss\n",
        "cross_entropy = tf.keras.losses.BinaryCrossentropy(from_logits=False)"
      ]
    },
    {
      "cell_type": "code",
      "execution_count": null,
      "metadata": {
        "id": "2JBfAMvsh-eI"
      },
      "outputs": [],
      "source": [
        "def discriminator_loss(real_output, fake_output):\n",
        "    real_loss = cross_entropy(tf.ones_like(real_output), real_output)\n",
        "    fake_loss = cross_entropy(tf.zeros_like(fake_output), fake_output)\n",
        "    total_loss = real_loss + fake_loss\n",
        "    return total_loss\n",
        "\n",
        "def generator_loss(fake_output):\n",
        "    return cross_entropy(tf.ones_like(fake_output), fake_output)"
      ]
    },
    {
      "cell_type": "code",
      "execution_count": null,
      "metadata": {
        "cellView": "form",
        "id": "nveyoHgTFDdw"
      },
      "outputs": [],
      "source": [
        "# @title\n",
        "# def build_generator():\n",
        "#   model = Sequential([\n",
        "#       Dense(8*8*256, input_shape=(500, ), use_bias=False),\n",
        "#       BatchNormalization(),\n",
        "#       LeakyReLU(alpha=0.2),\n",
        "#       Dropout(0.25),\n",
        "#       Reshape((8, 8, 256)),\n",
        "#       Conv2DTranspose(512, kernel_size=8, strides=1, padding='same', use_bias=False),\n",
        "#       BatchNormalization(),\n",
        "#       LeakyReLU(alpha=0.2),\n",
        "#       Conv2DTranspose(256, kernel_size=8, strides=2, padding='same', use_bias=False),\n",
        "#       BatchNormalization(),\n",
        "#       LeakyReLU(alpha=0.2),\n",
        "#       Conv2DTranspose(128, kernel_size=8, strides=2, padding='same', use_bias=False),\n",
        "#       BatchNormalization(),\n",
        "#       LeakyReLU(alpha=0.2),\n",
        "#       Conv2DTranspose(64, kernel_size=8, strides=2, padding='same', use_bias=False),\n",
        "#       BatchNormalization(),\n",
        "#       LeakyReLU(alpha=0.2),\n",
        "#       Conv2DTranspose(32, kernel_size=8, strides=2, padding='same', use_bias=False),\n",
        "#       BatchNormalization(),\n",
        "#       LeakyReLU(alpha=0.2),\n",
        "#       Conv2DTranspose(1, kernel_size=8, strides=2, activation='tanh', padding='same', use_bias=False)\n",
        "#   ])\n",
        "#   return model\n",
        "\n",
        "# def build_discriminator():\n",
        "#   model = Sequential([\n",
        "#     Conv2D(64, kernel_size=6, strides=1, input_shape=(256, 256, 1), padding='same'),\n",
        "#     LeakyReLU(alpha=0.2),\n",
        "#     MaxPooling2D(pool_size=1),\n",
        "#     Dropout(0.3),\n",
        "#     Conv2D(128, kernel_size=6, strides=2, padding='same'),\n",
        "#     LeakyReLU(alpha=0.2),\n",
        "#     MaxPooling2D(pool_size=1),\n",
        "#     Dropout(0.3),\n",
        "#     Conv2D(256, kernel_size=6, strides=2, padding='same'),\n",
        "#     LeakyReLU(alpha=0.2),\n",
        "#     MaxPooling2D(pool_size=(2, 2)),\n",
        "#     Dropout(0.3),\n",
        "#     Conv2D(512, kernel_size=6, strides=1, padding='same'),\n",
        "#     LeakyReLU(alpha=0.2),\n",
        "#     MaxPooling2D(pool_size=(2, 2)),\n",
        "#     Dropout(0.3),\n",
        "#     Flatten(),\n",
        "#     Dense(1, activation='sigmoid')\n",
        "#   ])\n",
        "#   return model\n",
        "\n",
        "# generator = build_generator()\n",
        "# discriminator = build_discriminator()\n",
        "\n",
        "# generator.summary()\n",
        "# discriminator.summary()\n",
        "\n"
      ]
    },
    {
      "cell_type": "code",
      "execution_count": null,
      "metadata": {
        "id": "DWd8kNbc6n5U"
      },
      "outputs": [],
      "source": [
        "generator_optimizer = tf.keras.optimizers.Adam(lr, beta_1=0.5)\n",
        "discriminator_optimizer = tf.keras.optimizers.Adam(3*lr, beta_1=0.5)"
      ]
    },
    {
      "cell_type": "code",
      "execution_count": null,
      "metadata": {
        "id": "rkUXRO2-ss3b"
      },
      "outputs": [],
      "source": [
        "import matplotlib.pyplot as plt\n",
        "\n",
        "def save_img(epoch):\n",
        "  noise = np.random.normal(0, 1, (5, 500))\n",
        "  gen_imgs = generator(noise, training=False)\n",
        "  print(\"Figure: \", epoch)\n",
        "  plt.figure()\n",
        "  _, a = plt.subplots(1, 5)\n",
        "\n",
        "  for i in range(5):\n",
        "    img = (gen_imgs[i, :, :, :]*127.5 + 127.5) / 255\n",
        "    a[i].imshow(img, cmap='gray')\n",
        "  plt.show()\n",
        "\n",
        "  if (epoch % 25 == 0):\n",
        "    plt.savefig(f'{epoch}.png')\n",
        "    generator.save('/content/drive/MyDrive/xray_generator.keras')\n",
        "    discriminator.save('/content/drive/MyDrive/xray_discriminator.keras')\n",
        "  plt.close"
      ]
    },
    {
      "cell_type": "code",
      "execution_count": null,
      "metadata": {
        "id": "02fEIiaEkj7j"
      },
      "outputs": [],
      "source": [
        "@tf.function\n",
        "def train_step(images):\n",
        "  noise = tf.random.normal([batch_size, 500])\n",
        "\n",
        "  with tf.GradientTape() as gen_tape, tf.GradientTape() as disc_tape:\n",
        "    generated_images = generator(noise, training=True)\n",
        "\n",
        "    real_output = discriminator(images, training=True)\n",
        "    fake_output = discriminator(generated_images, training=True)\n",
        "\n",
        "    gen_loss = generator_loss(fake_output)\n",
        "    disc_loss = discriminator_loss(real_output, fake_output)\n",
        "\n",
        "  gradients_of_generator = gen_tape.gradient(gen_loss, generator.trainable_variables)\n",
        "  gradients_of_discriminator = disc_tape.gradient(disc_loss, discriminator.trainable_variables)\n",
        "\n",
        "  generator_optimizer.apply_gradients(zip(gradients_of_generator, generator.trainable_variables))\n",
        "  discriminator_optimizer.apply_gradients(zip(gradients_of_discriminator, discriminator.trainable_variables))\n",
        "\n"
      ]
    },
    {
      "cell_type": "code",
      "execution_count": null,
      "metadata": {
        "id": "R3sPJZkzFIZ2"
      },
      "outputs": [],
      "source": [
        "from IPython.display import clear_output\n",
        "def train(epochs):\n",
        "  itr = 0\n",
        "  for epoch in range(epochs):\n",
        "    for b in train_x:\n",
        "      train_step(b)\n",
        "      print(\"Epoch: \", epoch)\n",
        "      save_img(itr)\n",
        "      itr += 1\n",
        "      clear_output(wait=True)\n"
      ]
    },
    {
      "cell_type": "code",
      "execution_count": null,
      "metadata": {
        "colab": {
          "base_uri": "https://localhost:8080/"
        },
        "id": "98GFu1DmvZ9i",
        "outputId": "795284c3-3a7c-42e6-e2ef-42def8f2ed24"
      },
      "outputs": [
        {
          "name": "stdout",
          "output_type": "stream",
          "text": [
            "Epoch:  32\n",
            "Figure:  2732\n"
          ]
        },
        {
          "data": {
            "text/plain": [
              "<Figure size 640x480 with 0 Axes>"
            ]
          },
          "metadata": {},
          "output_type": "display_data"
        },
        {
          "data": {
            "image/png": "[encoded data removed]",
            "text/plain": [
              "<Figure size 640x480 with 5 Axes>"
            ]
          },
          "metadata": {},
          "output_type": "display_data"
        }
      ],
      "source": [
        "train(epochs=100)"
      ]
    },
    {
      "cell_type": "code",
      "execution_count": null,
      "metadata": {
        "id": "yBZjVs5LE2U2"
      },
      "outputs": [],
      "source": [
        "def gen_img():\n",
        "  noise = np.random.normal(0, 1, (10, 500))\n",
        "  p = generator(noise)\n",
        "  j = 0\n",
        "  plt.figure()\n",
        "  _, a = plt.subplots(1, 10)\n",
        "  for i in p:\n",
        "    a[j].imshow(i*127.5 + 127.5, cmap='gray')\n",
        "    j += 1\n",
        "  plt.show()\n",
        "\n",
        "gen_img()"
      ]
    }
  ],
  "metadata": {
    "accelerator": "GPU",
    "colab": {
      "gpuType": "T4",
      "provenance": []
    },
    "kernelspec": {
      "display_name": "Python 3",
      "name": "python3"
    },
    "language_info": {
      "codemirror_mode": {
        "name": "ipython",
        "version": 3
      },
      "file_extension": ".py",
      "mimetype": "text/x-python",
      "name": "python",
      "nbconvert_exporter": "python",
      "pygments_lexer": "ipython3",
      "version": "3.12.1"
    }
  },
  "nbformat": 4,
  "nbformat_minor": 0
}